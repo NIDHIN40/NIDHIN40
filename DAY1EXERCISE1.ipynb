{
  "nbformat": 4,
  "nbformat_minor": 0,
  "metadata": {
    "colab": {
      "provenance": []
    },
    "kernelspec": {
      "name": "python3",
      "display_name": "Python 3"
    },
    "language_info": {
      "name": "python"
    }
  },
  "cells": [
    {
      "cell_type": "code",
      "execution_count": null,
      "metadata": {
        "id": "fecGf4ldcTs_"
      },
      "outputs": [],
      "source": []
    },
    {
      "cell_type": "markdown",
      "source": [
        "Given the string \"Hello, World!\", extract and print the substring \"Hello\".\n"
      ],
      "metadata": {
        "id": "oXTi7qZXcVit"
      }
    },
    {
      "cell_type": "code",
      "source": [
        "s=\"HELLO WORLD\"\n",
        "print(s[:-5])\n"
      ],
      "metadata": {
        "colab": {
          "base_uri": "https://localhost:8080/"
        },
        "id": "r-oEp67ocYcx",
        "outputId": "923fb9cd-46c7-4db5-ed7b-d39169a11d72"
      },
      "execution_count": 3,
      "outputs": [
        {
          "output_type": "stream",
          "name": "stdout",
          "text": [
            "HELLO \n"
          ]
        }
      ]
    },
    {
      "cell_type": "markdown",
      "source": [
        "Given the string \"Python is fun\", extract and print the substring \"is\"."
      ],
      "metadata": {
        "id": "Ip3NqEJVc1j8"
      }
    },
    {
      "cell_type": "code",
      "source": [
        "s=\"PYTHON IS FUN\"\n",
        "print(s[7:10])\n"
      ],
      "metadata": {
        "colab": {
          "base_uri": "https://localhost:8080/"
        },
        "id": "aSE4FbOWcZK8",
        "outputId": "55194dc0-4078-4636-8324-1797b00a2d22"
      },
      "execution_count": 4,
      "outputs": [
        {
          "output_type": "stream",
          "name": "stdout",
          "text": [
            "IS \n"
          ]
        }
      ]
    },
    {
      "cell_type": "markdown",
      "source": [
        "Given the string \"Programming\", extract and print the substring \"gram\" using slicing indices."
      ],
      "metadata": {
        "id": "KVOQlmFAdHhR"
      }
    },
    {
      "cell_type": "code",
      "source": [
        "s=\"PROGRAMMING\"\n",
        "print(s[3:7])\n"
      ],
      "metadata": {
        "colab": {
          "base_uri": "https://localhost:8080/"
        },
        "id": "xAC5RmvodWoX",
        "outputId": "c98f3a66-3bad-44ca-c7a0-b517d760eb10"
      },
      "execution_count": 5,
      "outputs": [
        {
          "output_type": "stream",
          "name": "stdout",
          "text": [
            "GRAM\n"
          ]
        }
      ]
    },
    {
      "cell_type": "markdown",
      "source": [
        "Given the string \"abcdefgh\", use slicing to print only the characters at even indices."
      ],
      "metadata": {
        "id": "3cZ3aOo7dbEd"
      }
    },
    {
      "cell_type": "code",
      "source": [
        "s=\"abcdefgh\"\n",
        "print(s[1:8:2])\n"
      ],
      "metadata": {
        "colab": {
          "base_uri": "https://localhost:8080/"
        },
        "id": "CTOtBSx_dXRZ",
        "outputId": "0631b6e4-a599-49c2-9a64-136b4bf35fe0"
      },
      "execution_count": 6,
      "outputs": [
        {
          "output_type": "stream",
          "name": "stdout",
          "text": [
            "bdfh\n"
          ]
        }
      ]
    },
    {
      "cell_type": "markdown",
      "source": [
        "Given the string \"abcdefg\", use negative indices to extract and print the substring \"efg\"."
      ],
      "metadata": {
        "id": "WNE2FA0Td5-6"
      }
    },
    {
      "cell_type": "code",
      "source": [
        "s=\"abcdefgh\"\n",
        "print(s[-4:-1])\n"
      ],
      "metadata": {
        "colab": {
          "base_uri": "https://localhost:8080/"
        },
        "id": "gBgRNZlEd8gp",
        "outputId": "25737247-bc3d-4703-c056-4565114aa911"
      },
      "execution_count": 7,
      "outputs": [
        {
          "output_type": "stream",
          "name": "stdout",
          "text": [
            "efg\n"
          ]
        }
      ]
    },
    {
      "cell_type": "markdown",
      "source": [
        "Given the string \"Data Science\", use negative indices to extract and print the last three characters.\n",
        "\n",
        "`\n",
        "```\n",
        "\n"
      ],
      "metadata": {
        "id": "ec7rnijGeQr3"
      }
    },
    {
      "cell_type": "code",
      "source": [
        "s=\"DATA SCIENCE\"\n",
        "print(s[-3:])"
      ],
      "metadata": {
        "colab": {
          "base_uri": "https://localhost:8080/"
        },
        "id": "fdNcf8tVeT6z",
        "outputId": "0ea63d06-6ee1-4119-9ab7-89ca8c59edd5"
      },
      "execution_count": 8,
      "outputs": [
        {
          "output_type": "stream",
          "name": "stdout",
          "text": [
            "NCE\n"
          ]
        }
      ]
    },
    {
      "cell_type": "markdown",
      "source": [
        "Given the string \"abcdefghij\", use slicing with a step to print every second character.\n"
      ],
      "metadata": {
        "id": "n8wkEhfned-B"
      }
    },
    {
      "cell_type": "code",
      "source": [
        "s=\"abcdefgh\"\n",
        "print(s[1:8:2])\n"
      ],
      "metadata": {
        "colab": {
          "base_uri": "https://localhost:8080/"
        },
        "id": "sHRh2QMyeioQ",
        "outputId": "fa0c57f4-a8f4-4996-aebb-34ff8aa5c4fa"
      },
      "execution_count": 9,
      "outputs": [
        {
          "output_type": "stream",
          "name": "stdout",
          "text": [
            "bdfh\n"
          ]
        }
      ]
    },
    {
      "cell_type": "markdown",
      "source": [
        "Given the string \"1234567890\", use slicing with a step to print the odd digits.\n"
      ],
      "metadata": {
        "id": "J3SQ6EwyevpI"
      }
    },
    {
      "cell_type": "code",
      "source": [
        "s=\"1234567890\"\n",
        "print(s[0:7:2])\n",
        "\n"
      ],
      "metadata": {
        "colab": {
          "base_uri": "https://localhost:8080/"
        },
        "id": "zbYFACsPe2gy",
        "outputId": "0d2dd71c-be5c-4331-8214-303bbe51de72"
      },
      "execution_count": 10,
      "outputs": [
        {
          "output_type": "stream",
          "name": "stdout",
          "text": [
            "1357\n"
          ]
        }
      ]
    },
    {
      "cell_type": "markdown",
      "source": [
        "Given the string \"Hello\", use slicing to print the string in reverse order.\n"
      ],
      "metadata": {
        "id": "Lm_cwTtWewrI"
      }
    },
    {
      "cell_type": "code",
      "source": [
        "s=\"HELLO \"\n",
        "print(s[::-1])\n"
      ],
      "metadata": {
        "colab": {
          "base_uri": "https://localhost:8080/"
        },
        "id": "RZDQwuU3fksI",
        "outputId": "3231711a-3dc0-4c06-bcb3-f319f997a1fd"
      },
      "execution_count": 11,
      "outputs": [
        {
          "output_type": "stream",
          "name": "stdout",
          "text": [
            " OLLEH\n"
          ]
        }
      ]
    },
    {
      "cell_type": "markdown",
      "source": [
        "Given the string \"abcdefghijk\", extract and print the substring \"acegik\" using slicing.\n"
      ],
      "metadata": {
        "id": "AYbOHBb7frvf"
      }
    },
    {
      "cell_type": "code",
      "source": [
        "s=\"abcdefghijk\"\n",
        "print(s[0:12:2])\n"
      ],
      "metadata": {
        "colab": {
          "base_uri": "https://localhost:8080/"
        },
        "id": "1BWBhDgDfvcQ",
        "outputId": "56f11677-45b5-4fdf-f661-69e9aac11309"
      },
      "execution_count": 12,
      "outputs": [
        {
          "output_type": "stream",
          "name": "stdout",
          "text": [
            "acegik\n"
          ]
        }
      ]
    }
  ]
}